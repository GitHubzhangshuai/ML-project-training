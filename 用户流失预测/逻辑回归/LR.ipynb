{
 "cells": [
  {
   "cell_type": "code",
   "execution_count": 211,
   "metadata": {},
   "outputs": [],
   "source": [
    "import numpy as np\n",
    "from sklearn.model_selection import train_test_split"
   ]
  },
  {
   "cell_type": "code",
   "execution_count": 212,
   "metadata": {},
   "outputs": [],
   "source": [
    "data = np.genfromtxt('../data/Churn_Modelling.csv', delimiter=',', dtype=np.str)\n",
    "x = data[1:,3:-1]\n",
    "y = data[1:,-1]"
   ]
  },
  {
   "cell_type": "code",
   "execution_count": 213,
   "metadata": {},
   "outputs": [],
   "source": [
    "x_train,x_test,y_train,y_test = train_test_split(x,y,test_size=0.2)"
   ]
  },
  {
   "cell_type": "code",
   "execution_count": 214,
   "metadata": {},
   "outputs": [
    {
     "data": {
      "text/plain": [
       "array([['559', 'France', 'Male', '52', '2', '0', '1', '1', '0',\n",
       "        '129013.59'],\n",
       "       ['557', 'Spain', 'Male', '36', '1', '113110.26', '1', '1', '0',\n",
       "        '98413.1'],\n",
       "       ['783', 'Spain', 'Female', '59', '9', '126224.87', '1', '1', '1',\n",
       "        '4423.63'],\n",
       "       ['661', 'Spain', 'Male', '38', '7', '143006.7', '1', '1', '1',\n",
       "        '15650.89'],\n",
       "       ['570', 'France', 'Female', '43', '9', '0', '2', '0', '1',\n",
       "        '11417.26']], dtype='<U23')"
      ]
     },
     "execution_count": 214,
     "metadata": {},
     "output_type": "execute_result"
    }
   ],
   "source": [
    "x_train[:5]"
   ]
  },
  {
   "cell_type": "code",
   "execution_count": 215,
   "metadata": {},
   "outputs": [
    {
     "data": {
      "text/plain": [
       "array(['1', '0', '0', '0', '0'], dtype='<U23')"
      ]
     },
     "execution_count": 215,
     "metadata": {},
     "output_type": "execute_result"
    }
   ],
   "source": [
    "y_train[:5]"
   ]
  },
  {
   "cell_type": "code",
   "execution_count": 216,
   "metadata": {},
   "outputs": [],
   "source": [
    "from sklearn.preprocessing import LabelEncoder\n",
    "labelencoder1 = LabelEncoder()\n",
    "x_train[:,1]=labelencoder1.fit_transform(x_train[:,1])\n",
    "x_test[:,1]=labelencoder1.fit_transform(x_test[:,1])\n",
    "labelencoder2 = LabelEncoder()\n",
    "x_train[:,2]=labelencoder2.fit_transform(x_train[:,2])\n",
    "x_test[:,2]=labelencoder2.fit_transform(x_test[:,2])"
   ]
  },
  {
   "cell_type": "code",
   "execution_count": 217,
   "metadata": {},
   "outputs": [
    {
     "data": {
      "text/plain": [
       "array([['559', '0', '1', '52', '2', '0', '1', '1', '0', '129013.59'],\n",
       "       ['557', '2', '1', '36', '1', '113110.26', '1', '1', '0',\n",
       "        '98413.1'],\n",
       "       ['783', '2', '0', '59', '9', '126224.87', '1', '1', '1',\n",
       "        '4423.63'],\n",
       "       ['661', '2', '1', '38', '7', '143006.7', '1', '1', '1',\n",
       "        '15650.89'],\n",
       "       ['570', '0', '0', '43', '9', '0', '2', '0', '1', '11417.26']],\n",
       "      dtype='<U23')"
      ]
     },
     "execution_count": 217,
     "metadata": {},
     "output_type": "execute_result"
    }
   ],
   "source": [
    "x_train[:5]"
   ]
  },
  {
   "cell_type": "code",
   "execution_count": 218,
   "metadata": {},
   "outputs": [],
   "source": [
    "x_train = x_train.astype(float)\n",
    "x_test = x_test.astype(np.float32)\n",
    "y_train = y_train.astype(np.float32)\n",
    "y_test = y_test.astype(np.float32)"
   ]
  },
  {
   "cell_type": "code",
   "execution_count": 219,
   "metadata": {},
   "outputs": [],
   "source": [
    "from sklearn.preprocessing import StandardScaler\n",
    "sc = StandardScaler()\n",
    "x_train = sc.fit_transform(x_train)\n",
    "x_test = sc.transform(x_test)"
   ]
  },
  {
   "cell_type": "code",
   "execution_count": 220,
   "metadata": {},
   "outputs": [
    {
     "data": {
      "text/plain": [
       "array([[-0.95067215, -0.89945917,  0.90934104,  1.2473978 , -1.04201495,\n",
       "        -1.22784061, -0.91108823,  0.6474524 , -1.02866055,  0.50251115],\n",
       "       [-0.97149679,  1.52332647,  0.90934104, -0.28432628, -1.38761089,\n",
       "         0.58495246, -0.91108823,  0.6474524 , -1.02866055, -0.03078408],\n",
       "       [ 1.38168754,  1.52332647, -1.09969743,  1.91752708,  1.37715661,\n",
       "         0.79513741, -0.91108823,  0.6474524 ,  0.97213799, -1.66880152],\n",
       "       [ 0.11138449,  1.52332647,  0.90934104, -0.09286077,  0.68596474,\n",
       "         1.06409608, -0.91108823,  0.6474524 ,  0.97213799, -1.47313654],\n",
       "       [-0.83613663, -0.89945917, -1.09969743,  0.385803  ,  1.37715661,\n",
       "        -1.22784061,  0.79786976, -1.54451509,  0.97213799, -1.54691884]])"
      ]
     },
     "execution_count": 220,
     "metadata": {},
     "output_type": "execute_result"
    }
   ],
   "source": [
    "x_train[:5]"
   ]
  },
  {
   "cell_type": "code",
   "execution_count": 224,
   "metadata": {},
   "outputs": [
    {
     "name": "stdout",
     "output_type": "stream",
     "text": [
      "              precision    recall  f1-score   support\n",
      "\n",
      "         0.0       0.83      0.97      0.89      1605\n",
      "         1.0       0.55      0.17      0.26       395\n",
      "\n",
      "   micro avg       0.81      0.81      0.81      2000\n",
      "   macro avg       0.69      0.57      0.57      2000\n",
      "weighted avg       0.77      0.81      0.77      2000\n",
      "\n"
     ]
    },
    {
     "name": "stderr",
     "output_type": "stream",
     "text": [
      "C:\\Users\\张帅\\AppData\\Roaming\\Python\\Python36\\site-packages\\sklearn\\linear_model\\logistic.py:433: FutureWarning: Default solver will be changed to 'lbfgs' in 0.22. Specify a solver to silence this warning.\n",
      "  FutureWarning)\n"
     ]
    }
   ],
   "source": [
    "from sklearn.linear_model import LogisticRegression\n",
    "from sklearn.metrics import classification_report,accuracy_score\n",
    "LR=LogisticRegression()\n",
    "LR.fit(x_train,y_train)\n",
    "predictions = LR.predict(x_test)\n",
    "print(classification_report(y_test,predictions))"
   ]
  },
  {
   "cell_type": "code",
   "execution_count": null,
   "metadata": {},
   "outputs": [],
   "source": []
  },
  {
   "cell_type": "code",
   "execution_count": null,
   "metadata": {},
   "outputs": [],
   "source": []
  }
 ],
 "metadata": {
  "kernelspec": {
   "display_name": "Python 3",
   "language": "python",
   "name": "python3"
  },
  "language_info": {
   "codemirror_mode": {
    "name": "ipython",
    "version": 3
   },
   "file_extension": ".py",
   "mimetype": "text/x-python",
   "name": "python",
   "nbconvert_exporter": "python",
   "pygments_lexer": "ipython3",
   "version": "3.6.4"
  }
 },
 "nbformat": 4,
 "nbformat_minor": 2
}
