{
 "cells": [
  {
   "cell_type": "code",
   "execution_count": 1,
   "metadata": {},
   "outputs": [],
   "source": [
    "from sklearn.cluster import KMeans\n",
    "import numpy as np\n",
    "import matplotlib.pyplot as plt\n",
    "import pandas as pd\n",
    "from sklearn.preprocessing import MinMaxScaler"
   ]
  },
  {
   "cell_type": "code",
   "execution_count": 2,
   "metadata": {},
   "outputs": [
    {
     "data": {
      "text/html": [
       "<div>\n",
       "<style scoped>\n",
       "    .dataframe tbody tr th:only-of-type {\n",
       "        vertical-align: middle;\n",
       "    }\n",
       "\n",
       "    .dataframe tbody tr th {\n",
       "        vertical-align: top;\n",
       "    }\n",
       "\n",
       "    .dataframe thead th {\n",
       "        text-align: right;\n",
       "    }\n",
       "</style>\n",
       "<table border=\"1\" class=\"dataframe\">\n",
       "  <thead>\n",
       "    <tr style=\"text-align: right;\">\n",
       "      <th></th>\n",
       "      <th>球队</th>\n",
       "      <th>13/14常规赛</th>\n",
       "      <th>14/15常规赛</th>\n",
       "      <th>15/16常规赛</th>\n",
       "      <th>16/17常规赛</th>\n",
       "      <th>13/14季后赛</th>\n",
       "      <th>14/15季后赛</th>\n",
       "      <th>15/16季后赛</th>\n",
       "    </tr>\n",
       "  </thead>\n",
       "  <tbody>\n",
       "    <tr>\n",
       "      <th>0</th>\n",
       "      <td>骑士</td>\n",
       "      <td>33</td>\n",
       "      <td>53</td>\n",
       "      <td>57</td>\n",
       "      <td>51</td>\n",
       "      <td>0</td>\n",
       "      <td>14</td>\n",
       "      <td>16</td>\n",
       "    </tr>\n",
       "    <tr>\n",
       "      <th>1</th>\n",
       "      <td>猛龙</td>\n",
       "      <td>48</td>\n",
       "      <td>49</td>\n",
       "      <td>56</td>\n",
       "      <td>51</td>\n",
       "      <td>3</td>\n",
       "      <td>0</td>\n",
       "      <td>10</td>\n",
       "    </tr>\n",
       "    <tr>\n",
       "      <th>2</th>\n",
       "      <td>热火</td>\n",
       "      <td>54</td>\n",
       "      <td>37</td>\n",
       "      <td>48</td>\n",
       "      <td>41</td>\n",
       "      <td>13</td>\n",
       "      <td>0</td>\n",
       "      <td>7</td>\n",
       "    </tr>\n",
       "    <tr>\n",
       "      <th>3</th>\n",
       "      <td>老鹰</td>\n",
       "      <td>38</td>\n",
       "      <td>60</td>\n",
       "      <td>48</td>\n",
       "      <td>43</td>\n",
       "      <td>3</td>\n",
       "      <td>8</td>\n",
       "      <td>4</td>\n",
       "    </tr>\n",
       "    <tr>\n",
       "      <th>4</th>\n",
       "      <td>凯尔特人</td>\n",
       "      <td>25</td>\n",
       "      <td>40</td>\n",
       "      <td>48</td>\n",
       "      <td>53</td>\n",
       "      <td>0</td>\n",
       "      <td>0</td>\n",
       "      <td>2</td>\n",
       "    </tr>\n",
       "  </tbody>\n",
       "</table>\n",
       "</div>"
      ],
      "text/plain": [
       "     球队  13/14常规赛  14/15常规赛  15/16常规赛  16/17常规赛  13/14季后赛  14/15季后赛  15/16季后赛\n",
       "0    骑士        33        53        57        51         0        14        16\n",
       "1    猛龙        48        49        56        51         3         0        10\n",
       "2    热火        54        37        48        41        13         0         7\n",
       "3    老鹰        38        60        48        43         3         8         4\n",
       "4  凯尔特人        25        40        48        53         0         0         2"
      ]
     },
     "execution_count": 2,
     "metadata": {},
     "output_type": "execute_result"
    }
   ],
   "source": [
    "data=pd.read_csv('../data/nba.csv')\n",
    "data.head()"
   ]
  },
  {
   "cell_type": "code",
   "execution_count": 3,
   "metadata": {},
   "outputs": [
    {
     "name": "stderr",
     "output_type": "stream",
     "text": [
      "C:\\Users\\张帅\\AppData\\Roaming\\Python\\Python36\\site-packages\\sklearn\\preprocessing\\data.py:323: DataConversionWarning: Data with input dtype int64 were all converted to float64 by MinMaxScaler.\n",
      "  return self.partial_fit(X, y)\n"
     ]
    },
    {
     "data": {
      "text/plain": [
       "array([[0.38297872, 0.7254902 , 0.74603175, 0.65957447, 0.        ,\n",
       "        0.875     , 1.        ],\n",
       "       [0.70212766, 0.64705882, 0.73015873, 0.65957447, 0.1875    ,\n",
       "        0.        , 0.625     ],\n",
       "       [0.82978723, 0.41176471, 0.6031746 , 0.44680851, 0.8125    ,\n",
       "        0.        , 0.4375    ],\n",
       "       [0.4893617 , 0.8627451 , 0.6031746 , 0.4893617 , 0.1875    ,\n",
       "        0.5       , 0.25      ],\n",
       "       [0.21276596, 0.47058824, 0.6031746 , 0.70212766, 0.        ,\n",
       "        0.        , 0.125     ]])"
      ]
     },
     "execution_count": 3,
     "metadata": {},
     "output_type": "execute_result"
    }
   ],
   "source": [
    "minmax_scaler=MinMaxScaler()\n",
    "X=minmax_scaler.fit_transform(data.iloc[:,1:])\n",
    "X[:5]"
   ]
  },
  {
   "cell_type": "code",
   "execution_count": 4,
   "metadata": {},
   "outputs": [
    {
     "data": {
      "image/png": "[encoded data removed]",
      "text/plain": [
       "<matplotlib.figure.Figure at 0x25daa9aa320>"
      ]
     },
     "metadata": {},
     "output_type": "display_data"
    }
   ],
   "source": [
    "loss=[]\n",
    "for i in range(2,10):\n",
    "    model=KMeans(n_clusters=i).fit(X)\n",
    "    loss.append(model.inertia_)\n",
    "plt.plot(range(2,10),loss)\n",
    "plt.xlabel('k')\n",
    "plt.ylabel('loss')\n",
    "plt.show()"
   ]
  },
  {
   "cell_type": "code",
   "execution_count": 5,
   "metadata": {},
   "outputs": [
    {
     "data": {
      "text/html": [
       "<div>\n",
       "<style scoped>\n",
       "    .dataframe tbody tr th:only-of-type {\n",
       "        vertical-align: middle;\n",
       "    }\n",
       "\n",
       "    .dataframe tbody tr th {\n",
       "        vertical-align: top;\n",
       "    }\n",
       "\n",
       "    .dataframe thead th {\n",
       "        text-align: right;\n",
       "    }\n",
       "</style>\n",
       "<table border=\"1\" class=\"dataframe\">\n",
       "  <thead>\n",
       "    <tr style=\"text-align: right;\">\n",
       "      <th></th>\n",
       "      <th>球队</th>\n",
       "      <th>13/14常规赛</th>\n",
       "      <th>14/15常规赛</th>\n",
       "      <th>15/16常规赛</th>\n",
       "      <th>16/17常规赛</th>\n",
       "      <th>13/14季后赛</th>\n",
       "      <th>14/15季后赛</th>\n",
       "      <th>15/16季后赛</th>\n",
       "      <th>clusters</th>\n",
       "    </tr>\n",
       "  </thead>\n",
       "  <tbody>\n",
       "    <tr>\n",
       "      <th>0</th>\n",
       "      <td>骑士</td>\n",
       "      <td>33</td>\n",
       "      <td>53</td>\n",
       "      <td>57</td>\n",
       "      <td>51</td>\n",
       "      <td>0</td>\n",
       "      <td>14</td>\n",
       "      <td>16</td>\n",
       "      <td>0</td>\n",
       "    </tr>\n",
       "    <tr>\n",
       "      <th>1</th>\n",
       "      <td>猛龙</td>\n",
       "      <td>48</td>\n",
       "      <td>49</td>\n",
       "      <td>56</td>\n",
       "      <td>51</td>\n",
       "      <td>3</td>\n",
       "      <td>0</td>\n",
       "      <td>10</td>\n",
       "      <td>2</td>\n",
       "    </tr>\n",
       "    <tr>\n",
       "      <th>2</th>\n",
       "      <td>热火</td>\n",
       "      <td>54</td>\n",
       "      <td>37</td>\n",
       "      <td>48</td>\n",
       "      <td>41</td>\n",
       "      <td>13</td>\n",
       "      <td>0</td>\n",
       "      <td>7</td>\n",
       "      <td>2</td>\n",
       "    </tr>\n",
       "    <tr>\n",
       "      <th>3</th>\n",
       "      <td>老鹰</td>\n",
       "      <td>38</td>\n",
       "      <td>60</td>\n",
       "      <td>48</td>\n",
       "      <td>43</td>\n",
       "      <td>3</td>\n",
       "      <td>8</td>\n",
       "      <td>4</td>\n",
       "      <td>3</td>\n",
       "    </tr>\n",
       "    <tr>\n",
       "      <th>4</th>\n",
       "      <td>凯尔特人</td>\n",
       "      <td>25</td>\n",
       "      <td>40</td>\n",
       "      <td>48</td>\n",
       "      <td>53</td>\n",
       "      <td>0</td>\n",
       "      <td>0</td>\n",
       "      <td>2</td>\n",
       "      <td>1</td>\n",
       "    </tr>\n",
       "  </tbody>\n",
       "</table>\n",
       "</div>"
      ],
      "text/plain": [
       "     球队  13/14常规赛  14/15常规赛  15/16常规赛  16/17常规赛  13/14季后赛  14/15季后赛  15/16季后赛  \\\n",
       "0    骑士        33        53        57        51         0        14        16   \n",
       "1    猛龙        48        49        56        51         3         0        10   \n",
       "2    热火        54        37        48        41        13         0         7   \n",
       "3    老鹰        38        60        48        43         3         8         4   \n",
       "4  凯尔特人        25        40        48        53         0         0         2   \n",
       "\n",
       "   clusters  \n",
       "0         0  \n",
       "1         2  \n",
       "2         2  \n",
       "3         3  \n",
       "4         1  "
      ]
     },
     "execution_count": 5,
     "metadata": {},
     "output_type": "execute_result"
    }
   ],
   "source": [
    "k=4\n",
    "model=KMeans(n_clusters=k).fit(X)\n",
    "data['clusters']=model.labels_\n",
    "data.head()"
   ]
  },
  {
   "cell_type": "code",
   "execution_count": 7,
   "metadata": {},
   "outputs": [
    {
     "name": "stdout",
     "output_type": "stream",
     "text": [
      "clusters: 0\n",
      "['骑士' '勇士']\n",
      "clusters: 1\n",
      "['凯尔特人' '黄蜂' '活塞' '魔术' '雄鹿' '尼克斯' '篮网' '76人' '爵士' '国王' '掘金' '鹈鹕' '森林狼'\n",
      " '太阳' '湖人']\n",
      "clusters: 2\n",
      "['猛龙' '热火' '步行者' '马刺' '雷霆']\n",
      "clusters: 3\n",
      "['老鹰' '公牛' '奇才' '快船' '开拓者' '小牛' '灰熊' '火箭']\n"
     ]
    }
   ],
   "source": [
    "for i in range(k):\n",
    "    print('clusters:',i)\n",
    "    label_data=data[data['clusters']==i].iloc[:,0]\n",
    "    print(label_data.values)"
   ]
  },
  {
   "cell_type": "code",
   "execution_count": null,
   "metadata": {},
   "outputs": [],
   "source": []
  }
 ],
 "metadata": {
  "kernelspec": {
   "display_name": "Python 3",
   "language": "python",
   "name": "python3"
  },
  "language_info": {
   "codemirror_mode": {
    "name": "ipython",
    "version": 3
   },
   "file_extension": ".py",
   "mimetype": "text/x-python",
   "name": "python",
   "nbconvert_exporter": "python",
   "pygments_lexer": "ipython3",
   "version": "3.6.4"
  }
 },
 "nbformat": 4,
 "nbformat_minor": 2
}
